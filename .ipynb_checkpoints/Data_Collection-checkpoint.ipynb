{
 "cells": [
  {
   "cell_type": "code",
   "execution_count": null,
   "metadata": {
    "colab": {
     "base_uri": "https://localhost:8080/"
    },
    "id": "kIXtO9p2Rpey",
    "outputId": "a44016f7-f3dc-4f39-84eb-1bf54883c210"
   },
   "outputs": [
    {
     "name": "stdout",
     "output_type": "stream",
     "text": [
      "Defaulting to user installation because normal site-packages is not writeable\n",
      "Requirement already satisfied: bs4 in c:\\users\\dhond\\appdata\\roaming\\python\\python310\\site-packages (0.0.2)\n",
      "Requirement already satisfied: beautifulsoup4 in c:\\programdata\\anaconda3\\lib\\site-packages (from bs4) (4.11.1)\n",
      "Requirement already satisfied: soupsieve>1.2 in c:\\programdata\\anaconda3\\lib\\site-packages (from beautifulsoup4->bs4) (2.3.2.post1)\n",
      "Defaulting to user installation because normal site-packages is not writeable\n",
      "Requirement already satisfied: pandas in c:\\programdata\\anaconda3\\lib\\site-packages (1.5.3)\n",
      "Requirement already satisfied: numpy>=1.21.0 in c:\\programdata\\anaconda3\\lib\\site-packages (from pandas) (1.23.5)\n",
      "Requirement already satisfied: pytz>=2020.1 in c:\\programdata\\anaconda3\\lib\\site-packages (from pandas) (2022.7)\n",
      "Requirement already satisfied: python-dateutil>=2.8.1 in c:\\programdata\\anaconda3\\lib\\site-packages (from pandas) (2.8.2)\n",
      "Requirement already satisfied: six>=1.5 in c:\\programdata\\anaconda3\\lib\\site-packages (from python-dateutil>=2.8.1->pandas) (1.16.0)\n"
     ]
    }
   ],
   "source": [
    "!pip install bs4\n",
    "!pip install pandas\n",
    "!pip install matplotlib\n"
   ]
  },
  {
   "cell_type": "code",
   "execution_count": null,
   "metadata": {
    "id": "vncn8S16SKvz"
   },
   "outputs": [],
   "source": [
    "from bs4 import BeautifulSoup\n",
    "import requests\n",
    "import pandas as pd\n",
    "import matplotlib.pyplot as plt\n",
    "import re"
   ]
  },
  {
   "cell_type": "code",
   "execution_count": null,
   "metadata": {
    "id": "eEpE3CULZNK4"
   },
   "outputs": [],
   "source": []
  },
  {
   "cell_type": "code",
   "execution_count": null,
   "metadata": {
    "id": "dLYsAxKaSLVO"
   },
   "outputs": [],
   "source": [
    "densityLink = 'https://visaguide.world/asia/'\n",
    "gdpLink = 'https://en.wikipedia.org/wiki/List_of_Asian_countries_by_GDP'"
   ]
  },
  {
   "cell_type": "code",
   "execution_count": null,
   "metadata": {
    "colab": {
     "base_uri": "https://localhost:8080/"
    },
    "id": "Rg_J0eJsSYUI",
    "outputId": "9b1acb99-e673-4680-f3b5-a15584f10648"
   },
   "outputs": [],
   "source": [
    "densityResponse = requests.get(densityLink)\n",
    "densityResponse"
   ]
  },
  {
   "cell_type": "code",
   "execution_count": null,
   "metadata": {
    "colab": {
     "base_uri": "https://localhost:8080/"
    },
    "id": "46LJzNYJaOm2",
    "outputId": "ae71e712-6ba1-481b-8f8b-aa727318c1f8"
   },
   "outputs": [],
   "source": [
    "densitySoup = BeautifulSoup(densityResponse.text,'html.parser')\n",
    "densitySoup"
   ]
  },
  {
   "cell_type": "code",
   "execution_count": null,
   "metadata": {
    "colab": {
     "base_uri": "https://localhost:8080/"
    },
    "id": "5P240vN8aeo9",
    "outputId": "185c537c-89a0-40b5-825d-34545f4988ea"
   },
   "outputs": [],
   "source": [
    "densityTables = densitySoup.find_all('table')\n",
    "len(densityTables)"
   ]
  },
  {
   "cell_type": "code",
   "execution_count": null,
   "metadata": {
    "colab": {
     "base_uri": "https://localhost:8080/"
    },
    "id": "s_Qb3ck1bATc",
    "outputId": "42c72121-1047-4f85-8ca2-a1b3f139a077"
   },
   "outputs": [],
   "source": [
    "densityHeaders = densityTables[1].find_all('th')\n",
    "densityHeaders"
   ]
  },
  {
   "cell_type": "code",
   "execution_count": null,
   "metadata": {
    "colab": {
     "base_uri": "https://localhost:8080/"
    },
    "id": "ILPqqaLPbJr-",
    "outputId": "68ce1be0-3651-42ed-8dff-2f521f7c6ea1"
   },
   "outputs": [],
   "source": [
    "densityRows = densityTables[1].find_all('td')\n",
    "densityRows"
   ]
  },
  {
   "cell_type": "code",
   "execution_count": null,
   "metadata": {
    "colab": {
     "base_uri": "https://localhost:8080/"
    },
    "id": "gDtCZ_kpb7r0",
    "outputId": "95d6c077-9b87-4023-9494-b6be9b80d4e8"
   },
   "outputs": [],
   "source": [
    "densityHeaders = [head.text for head in densityHeaders]\n",
    "densityHeaders"
   ]
  },
  {
   "cell_type": "code",
   "execution_count": null,
   "metadata": {
    "colab": {
     "base_uri": "https://localhost:8080/"
    },
    "id": "ELG9VHMJcU_5",
    "outputId": "cfec14dc-0bee-449b-e9af-54e48deb2682"
   },
   "outputs": [],
   "source": [
    "densityRows = [row.text for row in densityRows]\n",
    "densityRows"
   ]
  },
  {
   "cell_type": "code",
   "execution_count": null,
   "metadata": {
    "colab": {
     "base_uri": "https://localhost:8080/"
    },
    "id": "BqO_O6sYciIa",
    "outputId": "5737a680-7601-46d5-f270-c07d8cb3f13b"
   },
   "outputs": [],
   "source": [
    "D={}\n",
    "start=0\n",
    "for head in densityHeaders:\n",
    "  D[head]= [densityRows[i] for i in range(start,len(densityRows),len(densityHeaders))]\n",
    "  start+=1\n",
    "for i,j in D.items():\n",
    "  print(f'{i}:{j}')"
   ]
  },
  {
   "cell_type": "code",
   "execution_count": null,
   "metadata": {
    "colab": {
     "base_uri": "https://localhost:8080/",
     "height": 1000
    },
    "id": "M_VRHgTgiY-f",
    "outputId": "b5dbb8db-5223-4e35-bb77-16142905d36c"
   },
   "outputs": [],
   "source": [
    "densityDf = pd.DataFrame(D)\n",
    "densityDf.index=range(1,len(densityDf)+1)\n",
    "densityDf"
   ]
  },
  {
   "cell_type": "code",
   "execution_count": null,
   "metadata": {
    "colab": {
     "base_uri": "https://localhost:8080/",
     "height": 1000
    },
    "id": "8d1wFktLimFL",
    "outputId": "167f7d1a-6d17-4433-eeff-85c1a3d07929"
   },
   "outputs": [],
   "source": [
    "\n",
    "densityDf['Population (2021)']=densityDf['Population (2021)'].str.replace(',','').astype(int)\n",
    "densityDf"
   ]
  },
  {
   "cell_type": "code",
   "execution_count": null,
   "metadata": {
    "colab": {
     "base_uri": "https://localhost:8080/",
     "height": 1000
    },
    "id": "TfMcW64WjM1g",
    "outputId": "9f6c90da-948c-4b94-f73e-af900a41deff"
   },
   "outputs": [],
   "source": [
    "densityDf['Area km2']=densityDf['Area km2'].str.replace(',','').astype(int)\n",
    "densityDf"
   ]
  },
  {
   "cell_type": "code",
   "execution_count": null,
   "metadata": {
    "colab": {
     "base_uri": "https://localhost:8080/",
     "height": 1000
    },
    "id": "_KmxVBNwkE7Z",
    "outputId": "6bf4f2e0-b9ee-42b3-819e-ed77996a2ff5"
   },
   "outputs": [],
   "source": [
    "densityDf['Population Density']= densityDf['Population (2021)']/densityDf['Area km2']\n",
    "densityDf"
   ]
  },
  {
   "cell_type": "code",
   "execution_count": null,
   "metadata": {
    "colab": {
     "base_uri": "https://localhost:8080/",
     "height": 1000
    },
    "id": "8TDy78ORkKGw",
    "outputId": "9fd90354-caab-4be2-9bdf-7f10ac5cc97e"
   },
   "outputs": [],
   "source": [
    "descdensityDf = densityDf.sort_values(by='Population Density',ascending=False)\n",
    "descdensityDf"
   ]
  },
  {
   "cell_type": "code",
   "execution_count": null,
   "metadata": {
    "colab": {
     "base_uri": "https://localhost:8080/",
     "height": 556
    },
    "id": "OZfK_EzilJ7R",
    "outputId": "83d0e2e8-b62b-49a8-9ccf-8578363c4d58"
   },
   "outputs": [],
   "source": [
    "x=descdensityDf['Country'][:15]\n",
    "y=descdensityDf['Population Density'][:15]\n",
    "plt.bar(x, y, width=0.8, edgecolor='black')\n",
    "plt.xticks(rotation=60)\n",
    "plt.xlabel(\"Country\")\n",
    "plt.ylabel(\"Population Density\")\n",
    "plt.title(\"Population Density of Top 15 Countries\")\n",
    "plt.show()"
   ]
  },
  {
   "cell_type": "code",
   "execution_count": null,
   "metadata": {
    "colab": {
     "base_uri": "https://localhost:8080/"
    },
    "id": "cFZZvpLslXoN",
    "outputId": "ecb70573-551e-40db-8e88-0f6a5b4ea367"
   },
   "outputs": [],
   "source": [
    "gdpResponse = requests.get(gdpLink)\n",
    "gdpResponse"
   ]
  },
  {
   "cell_type": "code",
   "execution_count": null,
   "metadata": {
    "colab": {
     "base_uri": "https://localhost:8080/"
    },
    "id": "AZglQCCkl9G3",
    "outputId": "dd4ae02f-853a-4c35-ad92-bb97c87f54a8"
   },
   "outputs": [],
   "source": [
    "gdpSoup= BeautifulSoup(gdpResponse.text,'html.parser')\n",
    "gdpSoup"
   ]
  },
  {
   "cell_type": "code",
   "execution_count": null,
   "metadata": {
    "colab": {
     "base_uri": "https://localhost:8080/"
    },
    "id": "vslsR7fAmP8g",
    "outputId": "3436033c-5120-4664-f788-b083b81facfb"
   },
   "outputs": [],
   "source": [
    "gdpTable = gdpSoup.find_all('table')\n",
    "len(gdpTable)"
   ]
  },
  {
   "cell_type": "code",
   "execution_count": null,
   "metadata": {
    "colab": {
     "base_uri": "https://localhost:8080/"
    },
    "id": "4m7A5km1m1vk",
    "outputId": "823e2cbe-4773-4e65-d0b9-9f0d91c3a5bc"
   },
   "outputs": [],
   "source": [
    "gdpTable[0]"
   ]
  },
  {
   "cell_type": "code",
   "execution_count": null,
   "metadata": {
    "colab": {
     "base_uri": "https://localhost:8080/"
    },
    "id": "l_UQ7e6em9GC",
    "outputId": "62293c3c-4a1c-4af4-eb8e-d18ec3c03690"
   },
   "outputs": [],
   "source": [
    "gdpHeaders = gdpTable[0].find_all('th')\n",
    "gdpHeaders"
   ]
  },
  {
   "cell_type": "code",
   "execution_count": null,
   "metadata": {
    "colab": {
     "base_uri": "https://localhost:8080/"
    },
    "id": "BRrk2gernUHz",
    "outputId": "4a04e0e8-f573-4f90-d1a3-b088dee9b4dd"
   },
   "outputs": [],
   "source": [
    "gdpRows = gdpTable[0].find_all('td')\n",
    "gdpRows"
   ]
  },
  {
   "cell_type": "code",
   "execution_count": null,
   "metadata": {
    "colab": {
     "base_uri": "https://localhost:8080/"
    },
    "id": "8H-SGrLwnl7O",
    "outputId": "f899b2b5-4d3b-43c4-e9c7-312df15e0a91"
   },
   "outputs": [],
   "source": [
    "gdpHeaders = [head.text.strip() for head in gdpHeaders]\n",
    "gdpHeaders"
   ]
  },
  {
   "cell_type": "code",
   "execution_count": null,
   "metadata": {
    "colab": {
     "base_uri": "https://localhost:8080/"
    },
    "id": "IUufj36An6_g",
    "outputId": "8d0155d3-27ba-4f73-e827-732803b0613c"
   },
   "outputs": [],
   "source": [
    "gdpRows = [row.text.strip() for row in gdpRows]\n",
    "gdpRows"
   ]
  },
  {
   "cell_type": "code",
   "execution_count": null,
   "metadata": {
    "colab": {
     "base_uri": "https://localhost:8080/"
    },
    "id": "ye-J3m89opqB",
    "outputId": "6661bd2e-c53b-4a5d-a648-8b166704c5f4"
   },
   "outputs": [],
   "source": [
    "finalGdpRows = gdpRows[3:]\n",
    "finalGdpRows"
   ]
  },
  {
   "cell_type": "code",
   "execution_count": null,
   "metadata": {
    "colab": {
     "base_uri": "https://localhost:8080/"
    },
    "id": "dg56CBZfqFJI",
    "outputId": "a21c774a-d60b-46a0-a09f-c300cca09b5e"
   },
   "outputs": [],
   "source": [
    "gdpD={}\n",
    "st=0\n",
    "for i in gdpHeaders:\n",
    "  gdpD[i] = [finalGdpRows[i] for i in range(st,len(finalGdpRows),len(gdpHeaders))]\n",
    "  st+=1\n",
    "\n",
    "for i,j in gdpD.items():\n",
    "  print(f'{i}:{j}')"
   ]
  },
  {
   "cell_type": "code",
   "execution_count": null,
   "metadata": {
    "colab": {
     "base_uri": "https://localhost:8080/",
     "height": 1000
    },
    "id": "art4BdC9qzqv",
    "outputId": "0ec50ec1-8a5d-45f9-ca7f-bf6473f732d2"
   },
   "outputs": [],
   "source": [
    "gdpDf=pd.DataFrame(gdpD)\n",
    "gdpDf"
   ]
  },
  {
   "cell_type": "code",
   "execution_count": null,
   "metadata": {
    "id": "oPJN5uAirJKu"
   },
   "outputs": [],
   "source": [
    "# gdpDf.to_csv('gdpCsv.csv')"
   ]
  },
  {
   "cell_type": "code",
   "execution_count": null,
   "metadata": {
    "id": "ERg3_50UrXkI"
   },
   "outputs": [],
   "source": [
    "densityDf.columns"
   ]
  },
  {
   "cell_type": "code",
   "execution_count": null,
   "metadata": {},
   "outputs": [],
   "source": [
    "gdpDf.columns"
   ]
  },
  {
   "cell_type": "code",
   "execution_count": null,
   "metadata": {},
   "outputs": [],
   "source": [
    "densityDf['Population']=densityDf['Population (2021)']\n",
    "densityDf"
   ]
  },
  {
   "cell_type": "code",
   "execution_count": null,
   "metadata": {},
   "outputs": [],
   "source": [
    "densityDf=densityDf.drop(['Population (2021)'],axis=1)\n",
    "densityDf"
   ]
  },
  {
   "cell_type": "code",
   "execution_count": null,
   "metadata": {
    "scrolled": true
   },
   "outputs": [],
   "source": [
    "gdpDf['Country']=gdpDf['Country/Territory']\n",
    "gdpDf['Gdp in billion']=gdpDf['2024 GDP (nominal) in billions']\n",
    "gdpDf.drop(['Country/Territory','2024 GDP (nominal) in billions'],axis=1,inplace=True)\n",
    "gdpDf"
   ]
  },
  {
   "cell_type": "code",
   "execution_count": null,
   "metadata": {},
   "outputs": [],
   "source": [
    "densityDf.columns"
   ]
  },
  {
   "cell_type": "code",
   "execution_count": null,
   "metadata": {},
   "outputs": [],
   "source": [
    "gdpDf.columns"
   ]
  },
  {
   "cell_type": "code",
   "execution_count": null,
   "metadata": {},
   "outputs": [],
   "source": [
    "finalDf=pd.merge(densityDf,gdpDf,on='Country',how='inner')\n",
    "finalDf.index = range(1,len(finalDf)+1)\n",
    "finalDf"
   ]
  },
  {
   "cell_type": "code",
   "execution_count": null,
   "metadata": {},
   "outputs": [],
   "source": [
    "import re\n",
    "def convertGdpToBillion(value):\n",
    "    print(value)\n",
    "    # return value\n",
    "    value = value.replace(\",\",\"\").strip()\n",
    "    value = re.sub(r'\\[.*?\\]','',value)\n",
    "    \n",
    "    if 'trillion' in value:\n",
    "        value = value.replace(\"trillion\",\"\").strip()\n",
    "        return float(value)*10**3\n",
    "    elif 'billion' in value:\n",
    "        value = value.replace(\"billion\",\"\").strip()\n",
    "        return float(value)\n",
    "    elif 'million' in value:\n",
    "        value = value.replace(\"million\",\"\").strip()\n",
    "        return float(value)/10**3\n",
    "finalDf['final Gdp in billion'] = finalDf['Gdp in billion'].apply(convertGdpToBillion)\n",
    "finalDf\n",
    "    "
   ]
  },
  {
   "cell_type": "code",
   "execution_count": null,
   "metadata": {},
   "outputs": [],
   "source": [
    "finalDf.drop(['Gdp in billion'],axis=1,inplace=True)\n",
    "finalDf"
   ]
  },
  {
   "cell_type": "code",
   "execution_count": null,
   "metadata": {},
   "outputs": [],
   "source": [
    "finalDf['Gdp per capita']=finalDf['final Gdp in billion']*10**9/finalDf['Population']\n",
    "finalDf"
   ]
  },
  {
   "cell_type": "code",
   "execution_count": null,
   "metadata": {},
   "outputs": [],
   "source": [
    "finalDf.to_csv('finalDf.csv')"
   ]
  },
  {
   "cell_type": "code",
   "execution_count": null,
   "metadata": {},
   "outputs": [],
   "source": [
    "X=finalDf['Country']\n",
    "Y = finalDf['final Gdp in billion']\n",
    "plt.figure(figsize=(15,10))\n",
    "plt.xticks(rotation=90)\n",
    "plt.xlabel('Country')\n",
    "plt.ylabel('GDP')\n",
    "plt.bar(X,Y)\n",
    "plt.show()"
   ]
  },
  {
   "cell_type": "code",
   "execution_count": null,
   "metadata": {},
   "outputs": [],
   "source": [
    "X=finalDf['Country']\n",
    "Y = finalDf['final Gdp in billion']\n",
    "plt.figure(figsize=(15,10))\n",
    "plt.xticks(rotation=90)\n",
    "plt.xlabel('Country')\n",
    "plt.ylabel('GDP')\n",
    "plt.plot(X,Y)\n",
    "plt.show()"
   ]
  },
  {
   "cell_type": "code",
   "execution_count": null,
   "metadata": {},
   "outputs": [],
   "source": []
  }
 ],
 "metadata": {
  "colab": {
   "provenance": []
  },
  "kernelspec": {
   "display_name": "Python 3 (ipykernel)",
   "language": "python",
   "name": "python3"
  },
  "language_info": {
   "codemirror_mode": {
    "name": "ipython",
    "version": 3
   },
   "file_extension": ".py",
   "mimetype": "text/x-python",
   "name": "python",
   "nbconvert_exporter": "python",
   "pygments_lexer": "ipython3",
   "version": "3.10.9"
  }
 },
 "nbformat": 4,
 "nbformat_minor": 1
}
